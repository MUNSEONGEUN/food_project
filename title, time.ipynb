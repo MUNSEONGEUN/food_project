{
 "cells": [
  {
   "cell_type": "code",
   "execution_count": 3,
   "id": "0f6d8522",
   "metadata": {},
   "outputs": [],
   "source": [
    "import requests\n",
    "from urllib.request import urlopen\n",
    "from bs4 import BeautifulSoup\n",
    "import re"
   ]
  },
  {
   "cell_type": "code",
   "execution_count": 4,
   "id": "db996dbd",
   "metadata": {},
   "outputs": [],
   "source": [
    "base_detail_url = \"https://www.10000recipe.com/\""
   ]
  },
  {
   "cell_type": "code",
   "execution_count": 5,
   "id": "552ad911",
   "metadata": {},
   "outputs": [],
   "source": [
    "base_url = \"https://www.10000recipe.com/recipe/list.html?order=reco&page=1\"\n",
    "\n",
    "page = urlopen(base_url)\n",
    "\n",
    "soup = BeautifulSoup(page, \"lxml\")\n",
    "\n",
    "recipe_titles = soup.select(\"li.common_sp_list_li div.common_sp_caption_tit\")\n",
    "\n",
    "recipe_urls = soup.select(\"a.common_sp_link\")"
   ]
  },
  {
   "cell_type": "code",
   "execution_count": 6,
   "id": "4ca1e6b8",
   "metadata": {},
   "outputs": [
    {
     "data": {
      "text/plain": [
       "(40, 40)"
      ]
     },
     "execution_count": 6,
     "metadata": {},
     "output_type": "execute_result"
    }
   ],
   "source": [
    "len(recipe_titles), len(recipe_urls)"
   ]
  },
  {
   "cell_type": "code",
   "execution_count": 7,
   "id": "531f98e8",
   "metadata": {},
   "outputs": [
    {
     "name": "stdout",
     "output_type": "stream",
     "text": [
      "https://www.10000recipe.com//recipe/6984517\n",
      "https://www.10000recipe.com//recipe/7017809\n",
      "https://www.10000recipe.com//recipe/7019165\n",
      "https://www.10000recipe.com//recipe/7020068\n",
      "https://www.10000recipe.com//recipe/7007585\n",
      "https://www.10000recipe.com//recipe/7020067\n",
      "https://www.10000recipe.com//recipe/7013562\n",
      "https://www.10000recipe.com//recipe/7020066\n",
      "https://www.10000recipe.com//recipe/7020065\n",
      "https://www.10000recipe.com//recipe/7011840\n",
      "https://www.10000recipe.com//recipe/7009944\n",
      "https://www.10000recipe.com//recipe/7014721\n",
      "https://www.10000recipe.com//recipe/7011685\n",
      "https://www.10000recipe.com//recipe/6993517\n",
      "https://www.10000recipe.com//recipe/7003487\n",
      "https://www.10000recipe.com//recipe/7006635\n",
      "https://www.10000recipe.com//recipe/7006926\n",
      "https://www.10000recipe.com//recipe/6991123\n",
      "https://www.10000recipe.com//recipe/7004229\n",
      "https://www.10000recipe.com//recipe/6996297\n",
      "https://www.10000recipe.com//recipe/6989690\n",
      "https://www.10000recipe.com//recipe/7005830\n",
      "https://www.10000recipe.com//recipe/7014484\n",
      "https://www.10000recipe.com//recipe/7001752\n",
      "https://www.10000recipe.com//recipe/7018178\n",
      "https://www.10000recipe.com//recipe/7009241\n",
      "https://www.10000recipe.com//recipe/6992063\n",
      "https://www.10000recipe.com//recipe/7010409\n",
      "https://www.10000recipe.com//recipe/6983042\n",
      "https://www.10000recipe.com//recipe/6997077\n",
      "https://www.10000recipe.com//recipe/7014608\n",
      "https://www.10000recipe.com//recipe/7004853\n",
      "https://www.10000recipe.com//recipe/6912734\n",
      "https://www.10000recipe.com//recipe/6994258\n",
      "https://www.10000recipe.com//recipe/7004418\n",
      "https://www.10000recipe.com//recipe/7004960\n",
      "https://www.10000recipe.com//recipe/6981985\n",
      "https://www.10000recipe.com//recipe/6933760\n",
      "https://www.10000recipe.com//recipe/6957003\n",
      "https://www.10000recipe.com//recipe/7018922\n"
     ]
    }
   ],
   "source": [
    "for i in recipe_urls:\n",
    "    print(base_detail_url + i.get(\"href\"))"
   ]
  },
  {
   "cell_type": "code",
   "execution_count": 8,
   "id": "2f8ba606",
   "metadata": {},
   "outputs": [
    {
     "name": "stdout",
     "output_type": "stream",
     "text": [
      "10분\n",
      "30분\n",
      "20분\n",
      "20분\n",
      "20분\n",
      "15분\n",
      "20분\n",
      "30분\n",
      "30분\n",
      "15분\n",
      "5분\n",
      "30분\n",
      "20분\n"
     ]
    },
    {
     "ename": "KeyboardInterrupt",
     "evalue": "",
     "output_type": "error",
     "traceback": [
      "\u001b[1;31m---------------------------------------------------------------------------\u001b[0m",
      "\u001b[1;31mKeyboardInterrupt\u001b[0m                         Traceback (most recent call last)",
      "Cell \u001b[1;32mIn[8], line 3\u001b[0m\n\u001b[0;32m      1\u001b[0m \u001b[38;5;28;01mfor\u001b[39;00m i \u001b[38;5;129;01min\u001b[39;00m recipe_urls:\n\u001b[0;32m      2\u001b[0m     detail_url \u001b[38;5;241m=\u001b[39m base_detail_url \u001b[38;5;241m+\u001b[39m i\u001b[38;5;241m.\u001b[39mget(\u001b[38;5;124m\"\u001b[39m\u001b[38;5;124mhref\u001b[39m\u001b[38;5;124m\"\u001b[39m)\n\u001b[1;32m----> 3\u001b[0m     page \u001b[38;5;241m=\u001b[39m urlopen(detail_url)\n\u001b[0;32m      4\u001b[0m     soup \u001b[38;5;241m=\u001b[39m BeautifulSoup(page, \u001b[38;5;124m\"\u001b[39m\u001b[38;5;124mlxml\u001b[39m\u001b[38;5;124m\"\u001b[39m)\n\u001b[0;32m      6\u001b[0m     \u001b[38;5;28mprint\u001b[39m(soup\u001b[38;5;241m.\u001b[39mselect_one(\u001b[38;5;124m\"\u001b[39m\u001b[38;5;124mspan.view2_summary_info2\u001b[39m\u001b[38;5;124m\"\u001b[39m)\u001b[38;5;241m.\u001b[39mstring\u001b[38;5;241m.\u001b[39msplit()[\u001b[38;5;241m0\u001b[39m])\n",
      "File \u001b[1;32mC:\\ProgramData\\anaconda3\\Lib\\urllib\\request.py:216\u001b[0m, in \u001b[0;36murlopen\u001b[1;34m(url, data, timeout, cafile, capath, cadefault, context)\u001b[0m\n\u001b[0;32m    214\u001b[0m \u001b[38;5;28;01melse\u001b[39;00m:\n\u001b[0;32m    215\u001b[0m     opener \u001b[38;5;241m=\u001b[39m _opener\n\u001b[1;32m--> 216\u001b[0m \u001b[38;5;28;01mreturn\u001b[39;00m opener\u001b[38;5;241m.\u001b[39mopen(url, data, timeout)\n",
      "File \u001b[1;32mC:\\ProgramData\\anaconda3\\Lib\\urllib\\request.py:519\u001b[0m, in \u001b[0;36mOpenerDirector.open\u001b[1;34m(self, fullurl, data, timeout)\u001b[0m\n\u001b[0;32m    516\u001b[0m     req \u001b[38;5;241m=\u001b[39m meth(req)\n\u001b[0;32m    518\u001b[0m sys\u001b[38;5;241m.\u001b[39maudit(\u001b[38;5;124m'\u001b[39m\u001b[38;5;124murllib.Request\u001b[39m\u001b[38;5;124m'\u001b[39m, req\u001b[38;5;241m.\u001b[39mfull_url, req\u001b[38;5;241m.\u001b[39mdata, req\u001b[38;5;241m.\u001b[39mheaders, req\u001b[38;5;241m.\u001b[39mget_method())\n\u001b[1;32m--> 519\u001b[0m response \u001b[38;5;241m=\u001b[39m \u001b[38;5;28mself\u001b[39m\u001b[38;5;241m.\u001b[39m_open(req, data)\n\u001b[0;32m    521\u001b[0m \u001b[38;5;66;03m# post-process response\u001b[39;00m\n\u001b[0;32m    522\u001b[0m meth_name \u001b[38;5;241m=\u001b[39m protocol\u001b[38;5;241m+\u001b[39m\u001b[38;5;124m\"\u001b[39m\u001b[38;5;124m_response\u001b[39m\u001b[38;5;124m\"\u001b[39m\n",
      "File \u001b[1;32mC:\\ProgramData\\anaconda3\\Lib\\urllib\\request.py:536\u001b[0m, in \u001b[0;36mOpenerDirector._open\u001b[1;34m(self, req, data)\u001b[0m\n\u001b[0;32m    533\u001b[0m     \u001b[38;5;28;01mreturn\u001b[39;00m result\n\u001b[0;32m    535\u001b[0m protocol \u001b[38;5;241m=\u001b[39m req\u001b[38;5;241m.\u001b[39mtype\n\u001b[1;32m--> 536\u001b[0m result \u001b[38;5;241m=\u001b[39m \u001b[38;5;28mself\u001b[39m\u001b[38;5;241m.\u001b[39m_call_chain(\u001b[38;5;28mself\u001b[39m\u001b[38;5;241m.\u001b[39mhandle_open, protocol, protocol \u001b[38;5;241m+\u001b[39m\n\u001b[0;32m    537\u001b[0m                           \u001b[38;5;124m'\u001b[39m\u001b[38;5;124m_open\u001b[39m\u001b[38;5;124m'\u001b[39m, req)\n\u001b[0;32m    538\u001b[0m \u001b[38;5;28;01mif\u001b[39;00m result:\n\u001b[0;32m    539\u001b[0m     \u001b[38;5;28;01mreturn\u001b[39;00m result\n",
      "File \u001b[1;32mC:\\ProgramData\\anaconda3\\Lib\\urllib\\request.py:496\u001b[0m, in \u001b[0;36mOpenerDirector._call_chain\u001b[1;34m(self, chain, kind, meth_name, *args)\u001b[0m\n\u001b[0;32m    494\u001b[0m \u001b[38;5;28;01mfor\u001b[39;00m handler \u001b[38;5;129;01min\u001b[39;00m handlers:\n\u001b[0;32m    495\u001b[0m     func \u001b[38;5;241m=\u001b[39m \u001b[38;5;28mgetattr\u001b[39m(handler, meth_name)\n\u001b[1;32m--> 496\u001b[0m     result \u001b[38;5;241m=\u001b[39m func(\u001b[38;5;241m*\u001b[39margs)\n\u001b[0;32m    497\u001b[0m     \u001b[38;5;28;01mif\u001b[39;00m result \u001b[38;5;129;01mis\u001b[39;00m \u001b[38;5;129;01mnot\u001b[39;00m \u001b[38;5;28;01mNone\u001b[39;00m:\n\u001b[0;32m    498\u001b[0m         \u001b[38;5;28;01mreturn\u001b[39;00m result\n",
      "File \u001b[1;32mC:\\ProgramData\\anaconda3\\Lib\\urllib\\request.py:1391\u001b[0m, in \u001b[0;36mHTTPSHandler.https_open\u001b[1;34m(self, req)\u001b[0m\n\u001b[0;32m   1390\u001b[0m \u001b[38;5;28;01mdef\u001b[39;00m \u001b[38;5;21mhttps_open\u001b[39m(\u001b[38;5;28mself\u001b[39m, req):\n\u001b[1;32m-> 1391\u001b[0m     \u001b[38;5;28;01mreturn\u001b[39;00m \u001b[38;5;28mself\u001b[39m\u001b[38;5;241m.\u001b[39mdo_open(http\u001b[38;5;241m.\u001b[39mclient\u001b[38;5;241m.\u001b[39mHTTPSConnection, req,\n\u001b[0;32m   1392\u001b[0m         context\u001b[38;5;241m=\u001b[39m\u001b[38;5;28mself\u001b[39m\u001b[38;5;241m.\u001b[39m_context, check_hostname\u001b[38;5;241m=\u001b[39m\u001b[38;5;28mself\u001b[39m\u001b[38;5;241m.\u001b[39m_check_hostname)\n",
      "File \u001b[1;32mC:\\ProgramData\\anaconda3\\Lib\\urllib\\request.py:1352\u001b[0m, in \u001b[0;36mAbstractHTTPHandler.do_open\u001b[1;34m(self, http_class, req, **http_conn_args)\u001b[0m\n\u001b[0;32m   1350\u001b[0m     \u001b[38;5;28;01mexcept\u001b[39;00m \u001b[38;5;167;01mOSError\u001b[39;00m \u001b[38;5;28;01mas\u001b[39;00m err: \u001b[38;5;66;03m# timeout error\u001b[39;00m\n\u001b[0;32m   1351\u001b[0m         \u001b[38;5;28;01mraise\u001b[39;00m URLError(err)\n\u001b[1;32m-> 1352\u001b[0m     r \u001b[38;5;241m=\u001b[39m h\u001b[38;5;241m.\u001b[39mgetresponse()\n\u001b[0;32m   1353\u001b[0m \u001b[38;5;28;01mexcept\u001b[39;00m:\n\u001b[0;32m   1354\u001b[0m     h\u001b[38;5;241m.\u001b[39mclose()\n",
      "File \u001b[1;32mC:\\ProgramData\\anaconda3\\Lib\\http\\client.py:1378\u001b[0m, in \u001b[0;36mHTTPConnection.getresponse\u001b[1;34m(self)\u001b[0m\n\u001b[0;32m   1376\u001b[0m \u001b[38;5;28;01mtry\u001b[39;00m:\n\u001b[0;32m   1377\u001b[0m     \u001b[38;5;28;01mtry\u001b[39;00m:\n\u001b[1;32m-> 1378\u001b[0m         response\u001b[38;5;241m.\u001b[39mbegin()\n\u001b[0;32m   1379\u001b[0m     \u001b[38;5;28;01mexcept\u001b[39;00m \u001b[38;5;167;01mConnectionError\u001b[39;00m:\n\u001b[0;32m   1380\u001b[0m         \u001b[38;5;28mself\u001b[39m\u001b[38;5;241m.\u001b[39mclose()\n",
      "File \u001b[1;32mC:\\ProgramData\\anaconda3\\Lib\\http\\client.py:318\u001b[0m, in \u001b[0;36mHTTPResponse.begin\u001b[1;34m(self)\u001b[0m\n\u001b[0;32m    316\u001b[0m \u001b[38;5;66;03m# read until we get a non-100 response\u001b[39;00m\n\u001b[0;32m    317\u001b[0m \u001b[38;5;28;01mwhile\u001b[39;00m \u001b[38;5;28;01mTrue\u001b[39;00m:\n\u001b[1;32m--> 318\u001b[0m     version, status, reason \u001b[38;5;241m=\u001b[39m \u001b[38;5;28mself\u001b[39m\u001b[38;5;241m.\u001b[39m_read_status()\n\u001b[0;32m    319\u001b[0m     \u001b[38;5;28;01mif\u001b[39;00m status \u001b[38;5;241m!=\u001b[39m CONTINUE:\n\u001b[0;32m    320\u001b[0m         \u001b[38;5;28;01mbreak\u001b[39;00m\n",
      "File \u001b[1;32mC:\\ProgramData\\anaconda3\\Lib\\http\\client.py:279\u001b[0m, in \u001b[0;36mHTTPResponse._read_status\u001b[1;34m(self)\u001b[0m\n\u001b[0;32m    278\u001b[0m \u001b[38;5;28;01mdef\u001b[39;00m \u001b[38;5;21m_read_status\u001b[39m(\u001b[38;5;28mself\u001b[39m):\n\u001b[1;32m--> 279\u001b[0m     line \u001b[38;5;241m=\u001b[39m \u001b[38;5;28mstr\u001b[39m(\u001b[38;5;28mself\u001b[39m\u001b[38;5;241m.\u001b[39mfp\u001b[38;5;241m.\u001b[39mreadline(_MAXLINE \u001b[38;5;241m+\u001b[39m \u001b[38;5;241m1\u001b[39m), \u001b[38;5;124m\"\u001b[39m\u001b[38;5;124miso-8859-1\u001b[39m\u001b[38;5;124m\"\u001b[39m)\n\u001b[0;32m    280\u001b[0m     \u001b[38;5;28;01mif\u001b[39;00m \u001b[38;5;28mlen\u001b[39m(line) \u001b[38;5;241m>\u001b[39m _MAXLINE:\n\u001b[0;32m    281\u001b[0m         \u001b[38;5;28;01mraise\u001b[39;00m LineTooLong(\u001b[38;5;124m\"\u001b[39m\u001b[38;5;124mstatus line\u001b[39m\u001b[38;5;124m\"\u001b[39m)\n",
      "File \u001b[1;32mC:\\ProgramData\\anaconda3\\Lib\\socket.py:706\u001b[0m, in \u001b[0;36mSocketIO.readinto\u001b[1;34m(self, b)\u001b[0m\n\u001b[0;32m    704\u001b[0m \u001b[38;5;28;01mwhile\u001b[39;00m \u001b[38;5;28;01mTrue\u001b[39;00m:\n\u001b[0;32m    705\u001b[0m     \u001b[38;5;28;01mtry\u001b[39;00m:\n\u001b[1;32m--> 706\u001b[0m         \u001b[38;5;28;01mreturn\u001b[39;00m \u001b[38;5;28mself\u001b[39m\u001b[38;5;241m.\u001b[39m_sock\u001b[38;5;241m.\u001b[39mrecv_into(b)\n\u001b[0;32m    707\u001b[0m     \u001b[38;5;28;01mexcept\u001b[39;00m timeout:\n\u001b[0;32m    708\u001b[0m         \u001b[38;5;28mself\u001b[39m\u001b[38;5;241m.\u001b[39m_timeout_occurred \u001b[38;5;241m=\u001b[39m \u001b[38;5;28;01mTrue\u001b[39;00m\n",
      "File \u001b[1;32mC:\\ProgramData\\anaconda3\\Lib\\ssl.py:1311\u001b[0m, in \u001b[0;36mSSLSocket.recv_into\u001b[1;34m(self, buffer, nbytes, flags)\u001b[0m\n\u001b[0;32m   1307\u001b[0m     \u001b[38;5;28;01mif\u001b[39;00m flags \u001b[38;5;241m!=\u001b[39m \u001b[38;5;241m0\u001b[39m:\n\u001b[0;32m   1308\u001b[0m         \u001b[38;5;28;01mraise\u001b[39;00m \u001b[38;5;167;01mValueError\u001b[39;00m(\n\u001b[0;32m   1309\u001b[0m           \u001b[38;5;124m\"\u001b[39m\u001b[38;5;124mnon-zero flags not allowed in calls to recv_into() on \u001b[39m\u001b[38;5;132;01m%s\u001b[39;00m\u001b[38;5;124m\"\u001b[39m \u001b[38;5;241m%\u001b[39m\n\u001b[0;32m   1310\u001b[0m           \u001b[38;5;28mself\u001b[39m\u001b[38;5;241m.\u001b[39m\u001b[38;5;18m__class__\u001b[39m)\n\u001b[1;32m-> 1311\u001b[0m     \u001b[38;5;28;01mreturn\u001b[39;00m \u001b[38;5;28mself\u001b[39m\u001b[38;5;241m.\u001b[39mread(nbytes, buffer)\n\u001b[0;32m   1312\u001b[0m \u001b[38;5;28;01melse\u001b[39;00m:\n\u001b[0;32m   1313\u001b[0m     \u001b[38;5;28;01mreturn\u001b[39;00m \u001b[38;5;28msuper\u001b[39m()\u001b[38;5;241m.\u001b[39mrecv_into(buffer, nbytes, flags)\n",
      "File \u001b[1;32mC:\\ProgramData\\anaconda3\\Lib\\ssl.py:1167\u001b[0m, in \u001b[0;36mSSLSocket.read\u001b[1;34m(self, len, buffer)\u001b[0m\n\u001b[0;32m   1165\u001b[0m \u001b[38;5;28;01mtry\u001b[39;00m:\n\u001b[0;32m   1166\u001b[0m     \u001b[38;5;28;01mif\u001b[39;00m buffer \u001b[38;5;129;01mis\u001b[39;00m \u001b[38;5;129;01mnot\u001b[39;00m \u001b[38;5;28;01mNone\u001b[39;00m:\n\u001b[1;32m-> 1167\u001b[0m         \u001b[38;5;28;01mreturn\u001b[39;00m \u001b[38;5;28mself\u001b[39m\u001b[38;5;241m.\u001b[39m_sslobj\u001b[38;5;241m.\u001b[39mread(\u001b[38;5;28mlen\u001b[39m, buffer)\n\u001b[0;32m   1168\u001b[0m     \u001b[38;5;28;01melse\u001b[39;00m:\n\u001b[0;32m   1169\u001b[0m         \u001b[38;5;28;01mreturn\u001b[39;00m \u001b[38;5;28mself\u001b[39m\u001b[38;5;241m.\u001b[39m_sslobj\u001b[38;5;241m.\u001b[39mread(\u001b[38;5;28mlen\u001b[39m)\n",
      "\u001b[1;31mKeyboardInterrupt\u001b[0m: "
     ]
    }
   ],
   "source": [
    "for i in recipe_urls:\n",
    "    detail_url = base_detail_url + i.get(\"href\")\n",
    "    page = urlopen(detail_url)\n",
    "    soup = BeautifulSoup(page, \"lxml\")\n",
    "    \n",
    "    print(soup.select_one(\"span.view2_summary_info2\").string.split()[0])"
   ]
  },
  {
   "cell_type": "code",
   "execution_count": 9,
   "id": "5fafa2b3",
   "metadata": {},
   "outputs": [],
   "source": [
    "base_detail_url = \"https://www.10000recipe.com/\"\n",
    "\n",
    "base_url = \"https://www.10000recipe.com/recipe/list.html?order=reco&page=\"\n",
    "\n",
    "recipe_titles = []\n",
    "recipe_urls = []\n",
    "\n",
    "for i in range(1, 5): # 5415\n",
    "    page = urlopen(base_url + str(i))\n",
    "\n",
    "    soup = BeautifulSoup(page, \"lxml\")\n",
    "\n",
    "    recipe_titles.extend([title.string for title in soup.select(\"li.common_sp_list_li div.common_sp_caption_tit\")])\n",
    "\n",
    "    recipe_urls.extend(soup.select(\"a.common_sp_link\"))"
   ]
  },
  {
   "cell_type": "code",
   "execution_count": 10,
   "id": "d0acdb3f",
   "metadata": {},
   "outputs": [
    {
     "data": {
      "text/plain": [
       "(160, 160)"
      ]
     },
     "execution_count": 10,
     "metadata": {},
     "output_type": "execute_result"
    }
   ],
   "source": [
    "len(recipe_titles), len(recipe_urls)"
   ]
  },
  {
   "cell_type": "code",
   "execution_count": 12,
   "id": "21237d3d",
   "metadata": {},
   "outputs": [],
   "source": [
    "recipe_times = []\n",
    "\n",
    "for i in recipe_urls:\n",
    "    detail_url = base_detail_url + i.get(\"href\")\n",
    "    page = urlopen(detail_url)\n",
    "    soup = BeautifulSoup(page, \"lxml\")\n",
    "    \n",
    "    try:\n",
    "        recipe_times.append(soup.select_one(\"span.view2_summary_info2\").string.split()[0])\n",
    "        \n",
    "    except:\n",
    "        recipe_times.append(\"\")"
   ]
  },
  {
   "cell_type": "code",
   "execution_count": 13,
   "id": "c55cf7bb",
   "metadata": {},
   "outputs": [
    {
     "name": "stdout",
     "output_type": "stream",
     "text": [
      "도시락 반찬으로 최고! 스팸감자조림♡ | 10분\n",
      "시금치 계란 볶음 레시피 다이어트 반찬 | 30분\n",
      "간단하고 든든해서 혼밥메뉴로 한그릇 뚝딱~ 팽이달걀덮밥 | 20분\n",
      "베이컨감자채볶음 | 20분\n",
      "알배추 소고기 덮밥 만들기 유아식 소고기 덮밥 | 20분\n",
      "새송이버섯볶음 간장버섯조림 어린이 밑반찬 | 20분\n",
      "간단 콩나물반찬 콩나물요리 매운 콩나물무침 빨간 콩나물무침 | 15분\n",
      "딸기 샌드위치 만들기 | 15분\n",
      "오이고추된장무침 (사계절 먹기좋은 밑반찬 고추무침 5분 레시피) | 5분\n",
      "떡볶이 만드는 법 백종원 국물 떡볶이 레시피  | 30분\n",
      "참치 무 조림 만드는 법 무 요리 참치캔 요리 | 30분\n",
      "베이컨 떡말이 어린이 간식 간단 술안주 | 20분\n",
      "새송이버섯버터굴소스볶음 간단반찬 | 5분\n",
      "브로콜리두부무침 | 30분\n",
      "청경채 된장 무침으로 | 20분\n",
      "다이어트에 좋은 양배추 참치 덮밥 레시피 | 15분\n",
      "알배추무침 불 쓰지 말고 7분만에 뚝딱‼️ 만들어 보세요 | 10분\n",
      "고소한 맛이 좋은 밑반찬, 애호박버섯볶음 만들기(새우젓없이 만들기) | 30분\n",
      "[참치쌈장] 입맛없을때 밥도둑이요!  | 15분\n",
      "고구마떡 고구마씨를 말릴 수 있는 위험한 레시피 | 20분\n",
      "아이반찬 양파소세지볶음 레시피 양파요리 초스피드반찬 | 10분\n",
      "도토리묵김무침 레시피 아이반찬 | 5분\n",
      "NO밀가루! 감자치즈호떡 아이들 간식으로 딱 좋아요.  | 15분\n",
      "아이 반찬 콩나물 & 크래미 무침 - 아이들 콩나물과 친해져요. | 30분\n",
      "유아반찬~굴소스어묵소세지볶음! | 15분\n",
      "매콤오이채무침 레시피 한끼반찬 오이요리 | 10분\n",
      "내 인생 레시피,친정 엄마표 “파채무침” | 30분\n",
      "대패 우유 카레우동 레시피 | 20분\n",
      "쪽파계란말이 만들기-딸에게# | \n",
      "양배추오믈렛.. | 5분\n",
      "10분컷, 아보카도 간장와사비 계란밥 | 10분\n",
      "순두부장 만들기 | 10분\n",
      "버섯으로 관자 느낌 내는 방법! 새송이버섯간장버터구이 만들기 | 15분\n",
      "[밑반찬] 10분 밑반찬 딱딱하지않고 부드러운 오징어채 | 5분\n",
      "참나물 된장무침 만들기 | 20분\n",
      "밀가루 없이 두부도우로 피자만들기, 두부피자 | 30분\n",
      "다이어트 식단 브로콜리 두부무침 만드는 법 | 30분\n",
      "♥[신혼밥상] 팽이버섯 덮밥 | 10분\n",
      "단짠단짠 마성의 베이컨덮밥♡ | 10분\n",
      "크래미에 깻잎을 말아 구운 향긋한 전요리, 크래미깻잎전 | 15분\n",
      "파프리카달걀볶음:초간단 저탄고지 다이어트 단백질식사 | 10분\n",
      "제철감자 간식 편스토랑 류수영 버터 감자 구이 만드는 법 | 30분\n",
      "간단하게 만드는 밥도둑, 팽이버섯두부조림 | 20분\n",
      "밥도둑 반찬 고추장 달걀조림 만들기!TV 알토란 레시피 | 20분\n",
      "다이어트 식단 표에 넣기 좋은 원팬 양파 볶음밥 | 10분\n",
      "[마늘종볶음]단짠단짠 자꾸만 손이가요~ | 20분\n",
      "두부조림보다 부드러운 매콤 순두부 요리 | 20분\n",
      "돼지고기감자조림 밥통이 거덜날 수 있어요 | 20분\n",
      "#최애반찬#소세지강정 | 20분\n",
      "새송이버섯소고기볶음 끼니마다 가족들이 이것만 찾아요~ ‼️ | 15분\n",
      "초간단 5분반찬!아삭아삭 '고추쌈장무침' | 5분\n",
      "순두부찜 (다이어트음식에 아주 좋은 순두부요리) | 10분\n",
      "자취라이프 평범한 단무지도 양념에 무쳐서 맛있게 먹자 | 10분\n",
      "간단하게 맛난 반찬 만들기 '베이컨 버섯볶음' | 15분\n",
      "스팸 돈부리덮밥!반찬이 필요없는 초간단 한그릇 요리 | 2시간\n",
      "오이무침 (5분이면 완성하는 반찬레시피) | 5분\n",
      "【간단반찬】꽈리고추 햄볶음 만들기~ | 10분\n",
      "너무 맛있는 청경채버섯굴소스 볶음 만드는 법  | 20분\n",
      "비엔나 만두 강정 | 15분\n",
      "꿀마늘 닭강정(아이들 단골메뉴 찜♡♡) | 30분\n",
      "무기징역 고추장삼겹살 레시피 | 60분\n",
      "알배추 두부참치롤 도리돌돌 말면 한입컷 | 15분\n",
      "초간단 럭셔리요리@ 매콤참치퀘사디아 | 5분\n",
      "계란 당면만두 아이들 반찬으로 좋아요 | 30분\n",
      "배추 된장 들깨무침 | 15분\n",
      "만물상에 소개된 불 없이 5분만에 만든 오징어채 황금 레시피! | 5분\n",
      "매콤버섯덮밥~한그릇 | 30분\n",
      "완전맛있는 차돌박이찜! 미소된장마요소스도 함께~ | 15분\n",
      "간단 생선반찬 원팬요리/고등어 양념구이 | 20분\n",
      "따끈하고 든든한 다이어트 한끼! 순두부달걀죽 | 20분\n",
      "매콤하게 즐기는 새우당면 덮밥 | 30분\n",
      "목우촌 집반찬 간편요리 마늘쫑 소시지 볶음 | 30분\n",
      "고소하고 향긋한 깻잎들깨볶음 | 15분\n",
      "소떡강정 만드는 법 소떡소떡보다 만들기 쉬운 소떡강정레시피 | 15분\n",
      "【반전의맛】스팸 양배추 덮밥 만들기~ | 10분\n",
      "칠리새우ㅣ쉬림프 박스 만들기 | 30분\n",
      "백종원의 부추 달걀 볶음 | 15분\n",
      "치킨너겟으로 간편하게 간장치킨 만들기 | 15분\n",
      "갈릭마요새우 간단히 만들어 먹는 술안주! | 15분\n",
      "포실포실 계란빵 식빵과 종이컵으로 예쁘게 만들어봤어요.  | 20분\n",
      "쫄깃 매콤한 백종원 느타리 두루치기 | 15분\n",
      "상큼한 크래미 오이 숙주무침 | 10분\n",
      "볶아 먹는 시금치도 맛있다♪ 시금치달걀볶음  | 15분\n",
      "시원하고 뜨끈한 황태뭇국 끓이기 | 30분\n",
      "새우 부추전ㅣ집들이용으로도 손색 없는! | 30분\n",
      "아기 순두부국 요리 유아식 찌개 아이 반찬 | 30분\n",
      "포만감 가득 다이어트 양배추오믈렛 | 10분\n",
      "콩나물불고기 레시피 | 60분\n",
      "초간단 연두부반찬  | 5분\n",
      "절편을 이용한 떡 꼬치. | 10분\n",
      "♥[신혼밥상] 소시지양배추덮밥 | 20분\n",
      " 양배추 참치덮밥 /Cabbage tuna bowl of rice | 20분\n",
      "쫀득해서 계속 손이 가는 고구마맛탕쿠키 | 30분\n",
      "톡 쏘는 맛이 매력인 새콤달콤 닭고기 냉채 : 더워서 입맛 없을 때 무조건 이 메뉴! | 10분\n",
      "고소하고 상큼한 일본식 오이토마토무침 | 20분\n",
      "닭가슴살 쌈장 만드는 법 상추 쌈밥 도시락 | 15분\n",
      "참치양파볶음 (초간단 초스피드 반찬 레시피) | 5분\n",
      "고기처럼 쫄깃한 밥도둑 반찬 '새송이버섯 간장버터구이'레시피 | 10분\n",
      "【스팸감자볶음만들기】 | 10분\n",
      "단짠단짠의 대패덮밥 | 30분\n",
      "김치우동 만들기 투다리 김치우동 레시피 칼칼한 김치어묵우동 | 30분\n",
      "재료도 방법도 초간단! 떠먹는 치즈감자 | 20분\n",
      "해물찜처럼 맛있는 백종원 소시지콩나물찜 | 30분\n",
      "간단한 반찬 새우숙주볶음 맵지 않아서 아이들도 잘 먹어요. | 30분\n",
      "깻잎쌈밥 만드는법 깻잎요리 깻잎쌈밥 레시피 통조림 참치요리 고추장 쌈밥 도시락 | 15분\n",
      "쉽고간단한 시금치양파계란볶음! | 10분\n",
      "3분완성! 새콤달콤 맛있는 오이무침 레시피  | 5분\n",
      "달콤한 양파속에 꼭꼭 숨은 닭가슴살 | 20분\n",
      "대파 싫어하는 아이들도 잘 먹는 대파 냉파스타 만들어 보세요. | 30분\n",
      "브로콜리 참깨소스 무침 (강추) | 20분\n",
      "♥[신혼밥상] 10분 반찬! 메추리알조림 | 15분\n",
      "팽이버섯말이 만들기 실패없는 베이컨말이 레시피 | 30분\n",
      "알토란, 이홍운의 단짠의 끝판왕 가지덮밥 | 60분\n",
      "초간단 머그컵 퐁당 오 쇼콜라*.* | 5분\n",
      "치킨 스테이크 만들기ㅣ굽네가 부럽지 않은ㅣ | 30분\n",
      "♥[신혼밥상] 5분 반찬 상추겉절이 | 5분\n",
      "초간단 아이반찬 오징어간장조림 \n",
      "아이밑반찬으로 좋아요 | 10분\n",
      "달콤 짭짤 고소, 입맛을 사로 잡는 '베이컨 덮밥' | 15분\n",
      "스팸양배추볶음 스팸양배추덮밥레시피 다이어트레시피 식단관리 | 10분\n",
      "담백한 새우연두부달걀탕 | 15분\n",
      "쫄깃하고 맛있는 두부볶음 레시피!다이어트 요리로도 좋아요 | 30분\n",
      "'만물상레시피' 60년전통 돼지갈비 황금레시피 | 15분\n",
      "팽이버섯 베이컨 볶음 | 10분\n",
      "모닝빵콘치즈 간단간식  | 30분\n",
      "봄동 된장무침 | 15분\n",
      "두부 양배추 들깨 볶음밥 | 30분\n",
      "든든한 혼밥 돈까스김치나베 | 20분\n",
      "호두마늘볶음 만드는법- 딸에게# /수미네반찬  | \n",
      "베이컨떡꼬치 | 15분\n",
      "간단한 술안주로 최고인 버터갈릭새우 만들기 | 15분\n",
      "돌나물사과무침 l 아삭한 사과와 돌나물로 만든 간단 반찬 레시피 ★  | 10분\n",
      "아이반찬-얼갈이들깨무침 | 15분\n",
      "손님 초대용으로도 좋은 유산슬느낌 청경채부추새우덮밥 | 15분\n",
      "초간단 깻잎두부구이 | 30분\n",
      "시금치무침 레시피 간단 시금치무침 만들기 아기밑반찬 데치기 | \n",
      "5분 컷 세상 간단한 달걀요리, 우유달걀카레 | 10분\n",
      "순살 닭갈비 구이 | 60분\n",
      "머위나물 요리 머위나물 된장무침 만드는 법 | 10분\n",
      "새우요리 갈릭마요새우~ 요거 완전 맛있지~ | 15분\n",
      "초간단 밑반찬 파프리카버섯볶음 굴소스가 포인트 | 10분\n",
      "10분요리) 양배추베이컨볶음! | 10분\n",
      "오븐없이 만드는 갈릭버터치즈피자 | 10분\n",
      "간단한 한끼식사ㅡ 삼색소보로덮밥 | 15분\n",
      "무볶음 만들기 | 5분\n",
      "다른 반찬이 필요없는 매운 어묵 비빔밥~* | 15분\n",
      "촉촉한 양배추에 닭가슴살+상큼 야채를 돌돌~담백하게 시작하는 일주일!닭가슴살 양배추말이 | 30분\n",
      "비엔나 소세지강정 간단하게 만들어 먹기 좋아요 ♪ | 30분\n",
      "맑은 감자계란국 끓이는법 아기계란국  | 30분\n",
      "[다이어트요리] 에어프라이어에 맛있게 구운 \"닭가슴살꼬치\"♪ | 30분\n",
      "쫀득쫀득 일본식 감자떡 '이모모찌' 만들기 | 90분\n",
      "카레두부구이. 아이반찬으로 좋아요. | 15분\n",
      "팽이버섯덮밥:초초초간단 그러나, 더 없이 훌륭한 한끼 | 10분\n",
      "고소함이 남다른 백종원 '들기름계란후라이'초간단 레시피 | 10분\n",
      "최애반찬 소시지 감자조림 | 10분\n",
      "자꾸 손이가는 황태강정이 치킨강정같아요~ 황태강정 | 30분\n",
      "일본가정식 이모모찌 (감자떡) | 20분\n",
      "닭가슴살 갈비구이  | 30분\n",
      "가지등심카나페 | 15분\n",
      "건강 가지를 스테이크로 즐겨요. | 30분\n",
      "특제소스로 만든 가지탕수 아이도 잘 먹어요! | 30분\n"
     ]
    }
   ],
   "source": [
    "for title, time in zip(recipe_titles, recipe_times):\n",
    "    print(title.string, \"|\", time)"
   ]
  },
  {
   "cell_type": "code",
   "execution_count": null,
   "id": "0509a08f",
   "metadata": {},
   "outputs": [],
   "source": []
  }
 ],
 "metadata": {
  "kernelspec": {
   "display_name": "Python 3 (ipykernel)",
   "language": "python",
   "name": "python3"
  },
  "language_info": {
   "codemirror_mode": {
    "name": "ipython",
    "version": 3
   },
   "file_extension": ".py",
   "mimetype": "text/x-python",
   "name": "python",
   "nbconvert_exporter": "python",
   "pygments_lexer": "ipython3",
   "version": "3.11.5"
  }
 },
 "nbformat": 4,
 "nbformat_minor": 5
}
