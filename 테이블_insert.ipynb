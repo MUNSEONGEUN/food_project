{
 "cells": [
  {
   "cell_type": "code",
   "execution_count": 10,
   "id": "77f78c95",
   "metadata": {},
   "outputs": [],
   "source": [
    "import pymysql\n",
    "import sqlite3\n",
    "import time\n",
    "from urllib.request import urlopen\n",
    "from bs4 import BeautifulSoup\n",
    "from urllib.parse import quote"
   ]
  },
  {
   "cell_type": "code",
   "execution_count": 11,
   "id": "c2b5654a",
   "metadata": {},
   "outputs": [],
   "source": [
    "conn = pymysql.connect(host = \"127.0.0.1\", user = \"root\", password = \"1111\", db = \"foodie_db\", port = 3306)"
   ]
  },
  {
   "cell_type": "code",
   "execution_count": 12,
   "id": "6aa059f9",
   "metadata": {},
   "outputs": [],
   "source": [
    "cur = conn.cursor()"
   ]
  },
  {
   "cell_type": "code",
   "execution_count": 1,
   "id": "0f6fc3ee",
   "metadata": {},
   "outputs": [
    {
     "data": {
      "text/plain": [
       "8800"
      ]
     },
     "execution_count": 1,
     "metadata": {},
     "output_type": "execute_result"
    }
   ],
   "source": [
    "160 * 55"
   ]
  },
  {
   "cell_type": "code",
   "execution_count": 16,
   "id": "6f80ceaf",
   "metadata": {},
   "outputs": [],
   "source": [
    "# 카테고리별로 메뉴 이름\n",
    "\n",
    "cate_1 = ['어묵볶음', '두부조림', '계란말이', '오이무침', '멸치볶음', '콩나물무침', '무생채', '감자조림', '계란찜', '가지볶음', '장아찌', '감자전', '시금치무침', '감자볶음', '애호박볶음', '진미채볶음', '전', '메추리알장조림', '미역줄기볶음', '오이지무침', '감자채볶음', '연근조림', '애호박전', '나물', '가지무침', '소고기장조림', '소세지야채볶음', '우엉조림', '피클', '계란장조림']\n",
    "cate_2 = ['잡채', '제육볶음', '오징어볶음', '수육', '소불고기', '치킨', '갈치조림', '닭갈비', '돼지갈비찜', '닭볶음탕', '고등어조림', '불고기', '떡갈비', '카레', '골뱅이무침', '찜닭', '순대볶음', '찜', '마파두부', '탕수육', '갈비찜', '감자전', '부침개', '콩나물불고기', '두부조림', '주꾸미볶음', '소갈비찜', '두부김치', '돈까스', '월남쌈']\n",
    "cate_3 = ['미역국', '소고기무국', '닭볶음탕', '소고기미역국', '된장국', '콩나물국', '어묵탕', '떡국', '계란국', '삼계탕', '육개장', '배추된장국', '굴국', '만두국', '시금치된장국', '떡만두국', '꽃게탕', '오징어무국', '나베', '북어국', '탕', '오이냉국', '감자국', '국', '김치콩나물국', '닭곰탕', '감자탕', '홍합탕', '어묵국', '황태국']\n",
    "cate_4 = ['된장찌개', '순두부찌개', '김치찌개', '고추장찌개', '부대찌개', '돼지고기김치찌개', '청국장찌개', '참치김치찌개', '찌개', '청국장', '두부찌개', '짜글이', '감자짜글이', '차돌박이된장찌개', '콩비지찌개', '동태찌개', '꽁치김치찌개', '비지찌개', '전찌개', '달래된장찌개', '스팸김치찌개', '애호박찌개', '스튜', '냉이된장찌개', '우렁된장찌개', '오징어찌개', '콩나물찌개', '참치찌개', '돼지고기짜글이', '해물된장찌개']\n",
    "cate_5 = ['아이스크림', '고구마맛탕', '케이크', '카나페', '튀김', '치즈케이크', '푸딩', '웨지감자', '콘치즈', '젤리', '빙수', '티라미수', '감자버터구이', '강정', '팬케이크', '치즈스틱', '맛탕', '고구마튀김', '감자전', '군고구마', '전', '파운드케이크', '팥빙수', '고구마스틱', '스틱', '스콘', '부침개', '탕후루', '감자튀김', '고구마']\n",
    "cate_6 = ['파스타', '라면', '비빔국수', '스파게티', '만두', '수제비', '칼국수', '잔치국수', '국수', '쫄면', '콩국수', '크림파스타', '볶음우동', '짜장면', '비빔면', '우동', '김치비빔국수', '짬뽕', '까르보나라', '비빔만두', '오일파스타', '토마토스파게티', '바지락칼국수', '냉면', '알리오올리오', '토마토파스타', '쌀국수', '볶음라면', '열무비빔국수', '크림스파게티']\n",
    "cate_7 = ['볶음밥', '김밥', '떡볶이', '덮밥', '주먹밥', '비빔밥', '김치볶음밥', '밥', '유부초밥', '죽', '오므라이스', '콩나물밥', '초밥', '카레라이스', '계란볶음밥', '두부덮밥', '쌈밥', '새우볶음밥', '꼬마김밥', '국물떡볶이', '떡꼬치', '리조또', '전복죽', '솥밥', '떡', '단호박죽', '카레', '닭죽', '기름떡볶이', '짜장밥']\n",
    "cate_8 = ['피자', '파스타', '그라탕', '감자전', '떡볶이', '퀘사디아', '또띠아', '리조또', '감자피자', '김치전', '오코노미야끼', '브리또', '감자구이', '라자냐', '치킨', '가지피자', '고구마피자', '베이컨말이', '부침개', '에그슬럿', '전', '핫도그', '가지구이', '감바스', '또띠아피자', '월남쌈', '콘치즈', '라면', '말이', '샌드위치']\n",
    "cate_9 = ['깍두기', '오이소박이', '배추겉절이', '김치', '파김치', '열무김치', '물김치', '쌈장', '강된장', '봄동겉절이', '겉절이', '배추김치', '동치미', '쪽파김치', '오이김치', '열무물김치', '나박김치', '깻잎김치', '무김치', '오이지', '부추김치', '상추겉절이', '총각김치', '백김치', '얼갈이김치', '양배추김치', '간장게장', '약고추장', '고추장', '참치쌈장']\n",
    "cate_10 = ['소스', '잼', '카레', '양념장', '사과잼', '딸기잼', '드레싱', '리코타치즈', '육수', '양념', '과카몰리', '청', '토마토소스', '달래양념장', '귤잼', '고추기름', '커리', '마요네즈', '달래장', '페스토', '블루베리잼', '바질페스토', '쌈장', '매실청', '비빔국수양념장', '무스', '식초', '콩포트', '효소', '즙']\n",
    "cate_11 = ['도시락', '감자전', '튀김', '새우튀김', '옥수수', '감자', '감자구이', '콘치즈', '전', '닭꼬치', '떡볶이', '고구마', '감자튀김', '고구마맛탕', '군고구마', '옥수수삶는법', '김치전', '감자삶는법', '오징어튀김', '구운계란', '마늘', '김말이튀김', '오징어버터구이', '피자', '계란', '밤', '부추전', '치킨']\n"
   ]
  },
  {
   "cell_type": "code",
   "execution_count": null,
   "id": "118f42bf",
   "metadata": {},
   "outputs": [],
   "source": [
    "import sqlite3\n",
    "import time\n",
    "from urllib.request import urlopen\n",
    "from bs4 import BeautifulSoup\n",
    "from urllib.parse import quote\n",
    "\n",
    "# 데이터베이스 연결\n",
    "conn = sqlite3.connect('foodie_db')\n",
    "cur = conn.cursor()\n",
    "\n",
    "# 카테고리별 레시피 크롤링\n",
    "for cate in range(0, 10):\n",
    "    base_url = recipe_base_url + parse.quote(cate_1[cate]) + \"&order=reco&page=\"\n",
    "\n",
    "    recipe_urls = []\n",
    "\n",
    "    # 페이지 개수\n",
    "    for i in range(1, 5):\n",
    "\n",
    "        page = urlopen(base_url + str(i))\n",
    "        soup = BeautifulSoup(page, \"lxml\")\n",
    "        recipe_urls.extend(soup.select(\"a.common_sp_link\"))\n",
    "\n",
    "    # 레시피 페이지\n",
    "    for i in range(len(recipe_urls)):\n",
    "        recipe_url_li.append(base_detail_url + recipe_urls[i].get(\"href\"))\n",
    "\n",
    "        page = urlopen(recipe_url_li[i])\n",
    "        soup = BeautifulSoup(page, \"lxml\")\n",
    "\n",
    "        # 조리시간 크롤링\n",
    "        try:\n",
    "            time_li.append(soup.select(\"span.view2_summary_info2\")[0].string)\n",
    "        except:\n",
    "            time_li.append(\"\")\n",
    "\n",
    "        # 데이터베이스에 삽입\n",
    "        cur.execute(\"INSERT INTO Recipes (recipe_url, category_id, cooking_time) VALUES (recipe_url_li[i], cate, time_li[i])\",\n",
    "                    (recipe_url_li[i], cate, time_li[i]))\n",
    "        conn.commit()\n",
    "\n",
    "        time.sleep(1) \n",
    "        \n",
    "        # 레시피 타이틀\n",
    "        #recipe_title.append(soup.select(\"div.view2_summary h3\")[0].text)\n",
    "\n",
    "        #time.sleep(1)\n",
    "        \n",
    "         # 메뉴 이미지\n",
    "        #menu_img_li.append(soup.select(\"img#main_thumbs\")[0].get(\"src\"))\n",
    "        #time.sleep(1)\n",
    "        \n",
    "#         # 재료 리스트\n",
    "#         ing_li.append([i.next_element.strip() for i in soup.select(\"div#divConfirmedMaterialArea li\")])\n",
    "\n",
    "#         # 조리도구 리스트\n",
    "#         for i in soup.select(\"div.ready_ingre3 ul li\"):\n",
    "#             if i not in soup.select(\"div#divConfirmedMaterialArea li\"):\n",
    "#                 cook_tool_li.append(i.next_element.strip())\n",
    "\n",
    "        # 조리순서 리스트\n",
    "        # rocess = []\n",
    "        # for i in range(len(soup.select(\"div.view_step_cont div.media-body\"))):\n",
    "            #process.append(f\"조리 순서 {i+1}: {soup.select('div.view_step_cont div.media-body')[i].next_element}\")\n",
    "        # recipe_process.append(process)\n",
    "\n",
    "#        print(recipe_title)\n",
    "#        print(menu_img_li)\n",
    "#     print(ing_li)\n",
    "#     print(cook_tool_li)\n",
    "#     print(recipe_process)\n",
    "\n",
    "# 데이터베이스 연결 종료\n",
    "conn.close()\n"
   ]
  }
 ],
 "metadata": {
  "kernelspec": {
   "display_name": "Python 3 (ipykernel)",
   "language": "python",
   "name": "python3"
  },
  "language_info": {
   "codemirror_mode": {
    "name": "ipython",
    "version": 3
   },
   "file_extension": ".py",
   "mimetype": "text/x-python",
   "name": "python",
   "nbconvert_exporter": "python",
   "pygments_lexer": "ipython3",
   "version": "3.11.4"
  }
 },
 "nbformat": 4,
 "nbformat_minor": 5
}
