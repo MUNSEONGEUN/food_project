{
 "cells": [
  {
   "cell_type": "code",
   "execution_count": 9,
   "id": "3fcc83d6",
   "metadata": {},
   "outputs": [],
   "source": [
    "import pymysql"
   ]
  },
  {
   "cell_type": "code",
   "execution_count": 12,
   "id": "e070baa3",
   "metadata": {},
   "outputs": [],
   "source": [
    "conn = pymysql.connect(host = \"127.0.0.1\", user = \"root\", password = \"0000\", db = \"FOODIE\", port = 3306)"
   ]
  },
  {
   "cell_type": "code",
   "execution_count": 13,
   "id": "dcd1f4be",
   "metadata": {},
   "outputs": [],
   "source": [
    "cur = conn.cursor()"
   ]
  },
  {
   "cell_type": "code",
   "execution_count": 14,
   "id": "112b3a0b",
   "metadata": {},
   "outputs": [],
   "source": [
    "title = ['밑반찬', '메인반찬', '국/탕', '찌개', '디저트', '면/만두', '밥/죽/떡', '퓨전', '김치/젓갈/장류', '양념/소스/잼', '기타']"
   ]
  },
  {
   "cell_type": "code",
   "execution_count": 16,
   "id": "1e3ad38e",
   "metadata": {},
   "outputs": [],
   "source": [
    "for i in title:\n",
    "    cur.execute(f\"INSERT INTO CATEGORY (CATEGORY_NAME) VALUES ('{i}')\")\n",
    "    conn.commit()"
   ]
  },
  {
   "cell_type": "code",
   "execution_count": null,
   "id": "d8ca811f",
   "metadata": {},
   "outputs": [],
   "source": []
  }
 ],
 "metadata": {
  "kernelspec": {
   "display_name": "Python 3 (ipykernel)",
   "language": "python",
   "name": "python3"
  },
  "language_info": {
   "codemirror_mode": {
    "name": "ipython",
    "version": 3
   },
   "file_extension": ".py",
   "mimetype": "text/x-python",
   "name": "python",
   "nbconvert_exporter": "python",
   "pygments_lexer": "ipython3",
   "version": "3.11.5"
  }
 },
 "nbformat": 4,
 "nbformat_minor": 5
}
